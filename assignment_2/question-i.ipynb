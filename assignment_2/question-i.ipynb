{
 "cells": [
  {
   "cell_type": "code",
   "execution_count": 1,
   "metadata": {},
   "outputs": [
    {
     "name": "stdout",
     "output_type": "stream",
     "text": [
      "Matrix C:\n",
      " [[ -3  -4  -1]\n",
      " [ -9   3 -10]\n",
      " [  0 -10  -7]\n",
      " [  9   0  -2]]\n",
      "Matrix A1:\n",
      " [[171 -15  75]\n",
      " [-15 125  44]\n",
      " [ 75  44 154]]\n",
      "Characteristic polynomial coefficients:\n",
      " [ 1.000000e+00 -4.500000e+02  5.917300e+04 -2.123919e+06]\n",
      "Eigenvalues:\n",
      " [ 58.62589369 241.1301992  150.24390711]\n",
      "Eigenvectors:\n",
      " [[ 0.51265048  0.70235368 -0.49385098]\n",
      " [ 0.55187654  0.17107643  0.8161894 ]\n",
      " [-0.65773989  0.69096466  0.2999101 ]]\n"
     ]
    }
   ],
   "source": [
    "import numpy as np\n",
    "from numpy import poly\n",
    "\n",
    "# Generate a random integer matrix C of size 4x3\n",
    "C = np.random.randint(low=-10, high=10, size=(4, 3))\n",
    "\n",
    "# Calculate A1 = C.T * C (Matrix multiplication of C transpose and C)\n",
    "A1 = np.dot(C.T, C)\n",
    "\n",
    "# Compute the eigenvalues and eigenvectors of A1\n",
    "eigenvalues, eigenvectors = np.linalg.eig(A1)\n",
    "\n",
    "# Compute the characteristic polynomial coefficients from the eigenvalues\n",
    "char_poly_coefficients = poly(eigenvalues)\n",
    "\n",
    "# Print the matrices, characteristic polynomial coefficients, eigenvalues, and eigenvectors\n",
    "print(\"Matrix C:\\n\", C)\n",
    "print(\"Matrix A1:\\n\", A1)\n",
    "print(\"Characteristic polynomial coefficients:\\n\", char_poly_coefficients)\n",
    "print(\"Eigenvalues:\\n\", eigenvalues)\n",
    "print(\"Eigenvectors:\\n\", eigenvectors)\n",
    "\n"
   ]
  }
 ],
 "metadata": {
  "kernelspec": {
   "display_name": "Python 3",
   "language": "python",
   "name": "python3"
  },
  "language_info": {
   "name": "python",
   "version": "3.1.0"
  }
 },
 "nbformat": 4,
 "nbformat_minor": 2
}
