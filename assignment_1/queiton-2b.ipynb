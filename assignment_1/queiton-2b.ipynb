{
 "cells": [
  {
   "cell_type": "code",
   "execution_count": 3,
   "metadata": {},
   "outputs": [
    {
     "name": "stdout",
     "output_type": "stream",
     "text": [
      "Original Matrix A:\n",
      "[ 6 16 11]\n",
      "[ 16 107  32]\n",
      "[11 32 26]\n",
      "Lower Triangular Matrix L:\n",
      "[2.44948974 0.         0.        ]\n",
      "[6.53197265 8.02080628 0.        ]\n",
      "[4.4907312  0.33246865 2.39223701]\n",
      "Verification Result (A = LL^T): True\n"
     ]
    }
   ],
   "source": [
    "import numpy as np\n",
    "\n",
    "def print_matrix(matrix, label):\n",
    "    print(label)\n",
    "    for row in matrix:\n",
    "        print(row)\n",
    "\n",
    "def cholesky_decomposition(A):\n",
    "    n = len(A)\n",
    "    L = np.zeros((n, n))\n",
    "\n",
    "    for i in range(n):\n",
    "        for j in range(i + 1):\n",
    "            if i == j:\n",
    "                L[i, j] = np.sqrt(A[i, i] - np.sum(L[i, :j]**2))\n",
    "            else:\n",
    "                L[i, j] = (A[i, j] - np.sum(L[i, :j] * L[j, :j])) / L[j, j]\n",
    "\n",
    "    return L\n",
    "\n",
    "def verify_cholesky_decomposition(A, L):\n",
    "    reconstructed_A = np.dot(L, L.T)\n",
    "    return np.allclose(A, reconstructed_A)\n",
    "\n",
    "# Example with random input\n",
    "# np.random.seed(42)  # Set seed for reproducibility\n",
    "n = 3\n",
    "A = np.random.randint(1, 10, size=(n, n))\n",
    "A = A @ A.T  # Make a symmetric positive definite matrix\n",
    "print_matrix(A, \"Original Matrix A:\")\n",
    "\n",
    "# Perform Cholesky decomposition\n",
    "L = cholesky_decomposition(A)\n",
    "\n",
    "print_matrix(L, \"Lower Triangular Matrix L:\")\n",
    "\n",
    "# Verify A = LL^T\n",
    "verification_result = verify_cholesky_decomposition(A, L)\n",
    "print(\"Verification Result (A = LL^T):\", verification_result)\n"
   ]
  },
  {
   "cell_type": "markdown",
   "metadata": {},
   "source": [
    "<p> Vishal </p> \n",
    "\n",
    "Original Matrix A:\n",
    "[ 6 16 11]\n",
    "[ 16 107  32]\n",
    "[11 32 26]\n",
    "Lower Triangular Matrix L:\n",
    "[2.44948974 0.         0.        ]\n",
    "[6.53197265 8.02080628 0.        ]\n",
    "[4.4907312  0.33246865 2.39223701]\n",
    "Verification Result (A = LL^T): True"
   ]
  },
  {
   "cell_type": "markdown",
   "metadata": {},
   "source": [
    "<p> Anshuman </p>\n",
    "Original Matrix A:\n",
    "[75 67 52]\n",
    "[67 65 63]\n",
    "[52 63 90]\n",
    "Lower Triangular Matrix L:\n",
    "[8.66025404 0.         0.        ]\n",
    "[7.73649361 2.2686266  0.        ]\n",
    "[6.0044428  7.2936933  0.86527722]\n",
    "Verification Result (A = LL^T): True"
   ]
  },
  {
   "cell_type": "markdown",
   "metadata": {},
   "source": [
    "<p> Amit Bhai </p>\n",
    "\n",
    "Original Matrix A:\n",
    "[66 94 73]\n",
    "[ 94 149 125]\n",
    "[ 73 125 110]\n",
    "<br>\n",
    "Lower Triangular Matrix L:\n",
    "[8.1240384 0.        0.       ]\n",
    "[11.57060015  3.88860028  0.        ]\n",
    "[8.98567884 5.40819357 0.09496334]\n",
    "<br>\n",
    "Verification Result (A = LL^T): True"
   ]
  }
 ],
 "metadata": {
  "kernelspec": {
   "display_name": "Python 3",
   "language": "python",
   "name": "python3"
  },
  "language_info": {
   "codemirror_mode": {
    "name": "ipython",
    "version": 3
   },
   "file_extension": ".py",
   "mimetype": "text/x-python",
   "name": "python",
   "nbconvert_exporter": "python",
   "pygments_lexer": "ipython3",
   "version": "3.11.5"
  }
 },
 "nbformat": 4,
 "nbformat_minor": 2
}
