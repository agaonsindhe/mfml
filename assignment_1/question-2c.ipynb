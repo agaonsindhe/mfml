{
 "cells": [
  {
   "cell_type": "code",
   "execution_count": 3,
   "metadata": {},
   "outputs": [
    {
     "name": "stdout",
     "output_type": "stream",
     "text": [
      "Original Matrix A:\n",
      "[8. 5. 4.]\n",
      "[3. 4. 6.]\n",
      "[9. 2. 1.]\n",
      "[9. 8. 9.]\n",
      "Matrix Q (Orthogonal):\n",
      "[ 0.52186246  0.0344582  -0.63683953]\n",
      "[0.19569842 0.4541414  0.6735758 ]\n",
      "[ 0.58709527 -0.71390322  0.37375668]\n",
      "[ 0.58709527  0.53189324 -0.03220236]\n",
      "Matrix R (Upper Triangular):\n",
      "[15.32970972  9.26305864  9.13259302]\n",
      "[0.         4.81619608 6.93581714]\n",
      "[0.         0.         1.57803209]\n",
      "\n",
      "Verification Result (QR = A): True\n"
     ]
    }
   ],
   "source": [
    "import numpy as np\n",
    "\n",
    "def print_matrix(matrix, label):\n",
    "    print(label)\n",
    "    for row in matrix:\n",
    "        print(row)\n",
    "\n",
    "def qr_decomposition(A):\n",
    "    m, n = A.shape\n",
    "    Q = np.zeros((m, n))\n",
    "    R = np.zeros((n, n))\n",
    "\n",
    "    for j in range(n):\n",
    "        v = A[:, j]\n",
    "\n",
    "        for i in range(j):\n",
    "            R[i, j] = np.dot(Q[:, i], A[:, j])\n",
    "            v = v - R[i, j] * Q[:, i]\n",
    "\n",
    "        R[j, j] = np.linalg.norm(v)\n",
    "        Q[:, j] = v / R[j, j]\n",
    "\n",
    "    return Q, R\n",
    "\n",
    "# Generate random matrix A\n",
    "# np.random.seed(42)  # Set seed for reproducibility\n",
    "m = 4\n",
    "n = 3\n",
    "A = np.random.randint(1, 10, size=(m, n)).astype(float)\n",
    "\n",
    "print_matrix(A, \"Original Matrix A:\")\n",
    "\n",
    "# Perform QR decomposition\n",
    "Q, R = qr_decomposition(A)\n",
    "\n",
    "print_matrix(Q, \"Matrix Q (Orthogonal):\")\n",
    "print_matrix(R, \"Matrix R (Upper Triangular):\")\n",
    "\n",
    "# Verify QR = A with a tolerance\n",
    "tolerance = 1e-8\n",
    "verification_result = np.allclose(np.dot(Q, R), A, atol=tolerance)\n",
    "print(\"\\nVerification Result (QR = A):\", verification_result)\n"
   ]
  },
  {
   "cell_type": "markdown",
   "metadata": {},
   "source": [
    "Amit bhai \n",
    "\n",
    "Original Matrix A:\n",
    "[8. 2. 7.]\n",
    "[5. 9. 8.]\n",
    "[1. 4. 4.]\n",
    "[4. 7. 1.]\n",
    "Matrix Q (Orthogonal):\n",
    "[ 0.77702869 -0.60681981  0.09386099]\n",
    "[0.48564293 0.55777234 0.39253814]\n",
    "[0.09712859 0.37755142 0.45697661]\n",
    "[ 0.38851434  0.42203633 -0.79263882]\n",
    "Matrix R (Upper Triangular):\n",
    "[10.29563014  9.03295852 10.10137297]\n",
    "[0.         8.27077145 2.14668209]\n",
    "[0.         0.         4.83259973]\n",
    "\n",
    "Verification Result (QR = A): True"
   ]
  },
  {
   "cell_type": "markdown",
   "metadata": {},
   "source": [
    "anshuman \n",
    "\n",
    "Original Matrix A:\n",
    "[8. 5. 4.]\n",
    "[3. 4. 6.]\n",
    "[9. 2. 1.]\n",
    "[9. 8. 9.]\n",
    "Matrix Q (Orthogonal):\n",
    "[ 0.52186246  0.0344582  -0.63683953]\n",
    "[0.19569842 0.4541414  0.6735758 ]\n",
    "[ 0.58709527 -0.71390322  0.37375668]\n",
    "[ 0.58709527  0.53189324 -0.03220236]\n",
    "Matrix R (Upper Triangular):\n",
    "[15.32970972  9.26305864  9.13259302]\n",
    "[0.         4.81619608 6.93581714]\n",
    "[0.         0.         1.57803209]\n",
    "\n",
    "Verification Result (QR = A): True"
   ]
  },
  {
   "cell_type": "markdown",
   "metadata": {},
   "source": [
    "Vishal bhai\n",
    "\n",
    "\n",
    "Original Matrix A:\n",
    "[1. 6. 3.]\n",
    "[6. 8. 1.]\n",
    "[8. 8. 5.]\n",
    "[4. 5. 6.]\n",
    "Matrix Q (Orthogonal):\n",
    "[0.09245003 0.94121259 0.11955963]\n",
    "[ 0.5547002   0.1802322  -0.66345106]\n",
    "[ 0.73960026 -0.2803612   0.11809135]\n",
    "[0.36980013 0.05507095 0.72910398]\n",
    "Matrix R (Upper Triangular):\n",
    "[10.81665383 12.75810451  6.74885239]\n",
    "[0.         5.12159831 1.93248968]\n",
    "[0.         0.         4.66030847]\n",
    "\n",
    "Verification Result (QR = A): True"
   ]
  }
 ],
 "metadata": {
  "kernelspec": {
   "display_name": "Python 3",
   "language": "python",
   "name": "python3"
  },
  "language_info": {
   "codemirror_mode": {
    "name": "ipython",
    "version": 3
   },
   "file_extension": ".py",
   "mimetype": "text/x-python",
   "name": "python",
   "nbconvert_exporter": "python",
   "pygments_lexer": "ipython3",
   "version": "3.11.5"
  }
 },
 "nbformat": 4,
 "nbformat_minor": 2
}
